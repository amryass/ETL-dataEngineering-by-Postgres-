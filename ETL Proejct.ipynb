{
 "cells": [
  {
   "cell_type": "code",
   "execution_count": 8,
   "metadata": {},
   "outputs": [
    {
     "name": "stdout",
     "output_type": "stream",
     "text": [
      "Requirement already satisfied: psycopg2 in c:\\users\\cd net\\appdata\\local\\programs\\python\\python312\\lib\\site-packages (2.9.9)\n"
     ]
    },
    {
     "name": "stderr",
     "output_type": "stream",
     "text": [
      "DEPRECATION: Loading egg at c:\\users\\cd net\\appdata\\local\\programs\\python\\python312\\lib\\site-packages\\simple_calculator-0.1-py3.12.egg is deprecated. pip 24.3 will enforce this behaviour change. A possible replacement is to use pip for package installation.. Discussion can be found at https://github.com/pypa/pip/issues/12330\n",
      "\n",
      "[notice] A new release of pip is available: 24.0 -> 24.1.2\n",
      "[notice] To update, run: python.exe -m pip install --upgrade pip\n"
     ]
    }
   ],
   "source": [
    "! pip install psycopg2"
   ]
  },
  {
   "cell_type": "code",
   "execution_count": 9,
   "metadata": {},
   "outputs": [],
   "source": [
    "import psycopg2\n",
    "import pandas as pd"
   ]
  },
  {
   "cell_type": "code",
   "execution_count": 11,
   "metadata": {},
   "outputs": [],
   "source": [
    "try:\n",
    "    cur = con.cursor()\n",
    "except psycopg2.Error as e:\n",
    "    print(\"Error: Couldn't get cursor to the database\")\n",
    "    print(e)"
   ]
  },
  {
   "cell_type": "code",
   "execution_count": 12,
   "metadata": {},
   "outputs": [],
   "source": [
    "con.set_session(autocommit=True)"
   ]
  },
  {
   "cell_type": "code",
   "execution_count": 18,
   "metadata": {},
   "outputs": [],
   "source": [
    "cur.close()"
   ]
  },
  {
   "cell_type": "code",
   "execution_count": 19,
   "metadata": {},
   "outputs": [],
   "source": [
    "try:\n",
    "    cur = con.cursor()\n",
    "except psycopg2.Error as e:\n",
    "    print(\"Error: Couldn't get cursor to the database\")\n",
    "    print(e)"
   ]
  },
  {
   "cell_type": "code",
   "execution_count": 20,
   "metadata": {},
   "outputs": [],
   "source": [
    "con.set_session(autocommit=True)"
   ]
  },
  {
   "cell_type": "code",
   "execution_count": 21,
   "metadata": {},
   "outputs": [
    {
     "name": "stdout",
     "output_type": "stream",
     "text": [
      "database \"accounts\" already exists\n",
      "\n"
     ]
    }
   ],
   "source": [
    "try:\n",
    "    cur.execute(\"create database accounts\")\n",
    "except psycopg2.Error as e:\n",
    "    print(e)"
   ]
  },
  {
   "cell_type": "code",
   "execution_count": 22,
   "metadata": {},
   "outputs": [],
   "source": [
    "try:\n",
    "    con = psycopg2.connect(host='127.0.0.1', dbname='accounts', user='postgres', password='12345')\n",
    "except psycopg2.Error as e:\n",
    "    print(\"Error: Couldn't make connection\")\n",
    "    print(e)"
   ]
  },
  {
   "cell_type": "code",
   "execution_count": 23,
   "metadata": {},
   "outputs": [],
   "source": [
    "\n",
    "AccountsCountry=pd.read_csv('D:/ITI - data engineering/Project 1 Dataengineering/Dataset/Wealth-AccountsCountry.csv')"
   ]
  },
  {
   "cell_type": "code",
   "execution_count": 25,
   "metadata": {},
   "outputs": [],
   "source": [
    "AccountsCountry=AccountsCountry.rename(columns={'Code':'Country Code'})"
   ]
  },
  {
   "cell_type": "code",
   "execution_count": 26,
   "metadata": {},
   "outputs": [],
   "source": [
    "AccountsCountry_Clean=AccountsCountry[['Country Code','Short Name','Table Name','Long Name','Currency Unit']]"
   ]
  },
  {
   "cell_type": "code",
   "execution_count": 27,
   "metadata": {},
   "outputs": [
    {
     "data": {
      "text/html": [
       "<div>\n",
       "<style scoped>\n",
       "    .dataframe tbody tr th:only-of-type {\n",
       "        vertical-align: middle;\n",
       "    }\n",
       "\n",
       "    .dataframe tbody tr th {\n",
       "        vertical-align: top;\n",
       "    }\n",
       "\n",
       "    .dataframe thead th {\n",
       "        text-align: right;\n",
       "    }\n",
       "</style>\n",
       "<table border=\"1\" class=\"dataframe\">\n",
       "  <thead>\n",
       "    <tr style=\"text-align: right;\">\n",
       "      <th></th>\n",
       "      <th>Country Code</th>\n",
       "      <th>Short Name</th>\n",
       "      <th>Table Name</th>\n",
       "      <th>Long Name</th>\n",
       "      <th>Currency Unit</th>\n",
       "    </tr>\n",
       "  </thead>\n",
       "  <tbody>\n",
       "    <tr>\n",
       "      <th>0</th>\n",
       "      <td>ALB</td>\n",
       "      <td>Albania</td>\n",
       "      <td>Albania</td>\n",
       "      <td>Republic of Albania</td>\n",
       "      <td>Albanian lek</td>\n",
       "    </tr>\n",
       "    <tr>\n",
       "      <th>1</th>\n",
       "      <td>ARG</td>\n",
       "      <td>Argentina</td>\n",
       "      <td>Argentina</td>\n",
       "      <td>Argentine Republic</td>\n",
       "      <td>Argentine peso</td>\n",
       "    </tr>\n",
       "    <tr>\n",
       "      <th>2</th>\n",
       "      <td>ARM</td>\n",
       "      <td>Armenia</td>\n",
       "      <td>Armenia</td>\n",
       "      <td>Republic of Armenia</td>\n",
       "      <td>Armenian dram</td>\n",
       "    </tr>\n",
       "    <tr>\n",
       "      <th>3</th>\n",
       "      <td>AUS</td>\n",
       "      <td>Australia</td>\n",
       "      <td>Australia</td>\n",
       "      <td>Commonwealth of Australia</td>\n",
       "      <td>Australian dollar</td>\n",
       "    </tr>\n",
       "    <tr>\n",
       "      <th>4</th>\n",
       "      <td>AUT</td>\n",
       "      <td>Austria</td>\n",
       "      <td>Austria</td>\n",
       "      <td>Republic of Austria</td>\n",
       "      <td>Euro</td>\n",
       "    </tr>\n",
       "  </tbody>\n",
       "</table>\n",
       "</div>"
      ],
      "text/plain": [
       "  Country Code Short Name Table Name                  Long Name  \\\n",
       "0          ALB    Albania    Albania        Republic of Albania   \n",
       "1          ARG  Argentina  Argentina         Argentine Republic   \n",
       "2          ARM    Armenia    Armenia        Republic of Armenia   \n",
       "3          AUS  Australia  Australia  Commonwealth of Australia   \n",
       "4          AUT    Austria    Austria        Republic of Austria   \n",
       "\n",
       "       Currency Unit  \n",
       "0       Albanian lek  \n",
       "1     Argentine peso  \n",
       "2      Armenian dram  \n",
       "3  Australian dollar  \n",
       "4               Euro  "
      ]
     },
     "execution_count": 27,
     "metadata": {},
     "output_type": "execute_result"
    }
   ],
   "source": [
    "AccountsCountry_Clean.head()"
   ]
  },
  {
   "cell_type": "code",
   "execution_count": 28,
   "metadata": {},
   "outputs": [],
   "source": [
    "AccountsData=pd.read_csv('D:/ITI - data engineering/Project 1 Dataengineering/Dataset/Wealth-AccountData.csv')"
   ]
  },
  {
   "cell_type": "code",
   "execution_count": 157,
   "metadata": {},
   "outputs": [
    {
     "data": {
      "text/html": [
       "<div>\n",
       "<style scoped>\n",
       "    .dataframe tbody tr th:only-of-type {\n",
       "        vertical-align: middle;\n",
       "    }\n",
       "\n",
       "    .dataframe tbody tr th {\n",
       "        vertical-align: top;\n",
       "    }\n",
       "\n",
       "    .dataframe thead th {\n",
       "        text-align: right;\n",
       "    }\n",
       "</style>\n",
       "<table border=\"1\" class=\"dataframe\">\n",
       "  <thead>\n",
       "    <tr style=\"text-align: right;\">\n",
       "      <th></th>\n",
       "      <th>Country Name</th>\n",
       "      <th>Country Code</th>\n",
       "      <th>Indicator Code</th>\n",
       "      <th>Series Code</th>\n",
       "      <th>1995</th>\n",
       "      <th>2005</th>\n",
       "      <th>2010</th>\n",
       "      <th>2014</th>\n",
       "    </tr>\n",
       "  </thead>\n",
       "  <tbody>\n",
       "    <tr>\n",
       "      <th>0</th>\n",
       "      <td>Albania</td>\n",
       "      <td>ALB</td>\n",
       "      <td>Human capital (constant 2018 US$)</td>\n",
       "      <td>NW.HCA.TO</td>\n",
       "      <td>4.49E+10</td>\n",
       "      <td>5.440000e+10</td>\n",
       "      <td>6.810000e+10</td>\n",
       "      <td>7.250000e+10</td>\n",
       "    </tr>\n",
       "    <tr>\n",
       "      <th>1</th>\n",
       "      <td>Albania</td>\n",
       "      <td>ALB</td>\n",
       "      <td>Human capital per capita (constant 2018 US$)</td>\n",
       "      <td>NW.HCA.PC</td>\n",
       "      <td>14072.79</td>\n",
       "      <td>1.807230e+04</td>\n",
       "      <td>2.336286e+04</td>\n",
       "      <td>2.509002e+04</td>\n",
       "    </tr>\n",
       "    <tr>\n",
       "      <th>2</th>\n",
       "      <td>Albania</td>\n",
       "      <td>ALB</td>\n",
       "      <td>Human capital per capita, employed female (con...</td>\n",
       "      <td>NW.HCA.FEMP.PC</td>\n",
       "      <td>3468.858</td>\n",
       "      <td>2.222115e+03</td>\n",
       "      <td>2.889150e+03</td>\n",
       "      <td>2.957420e+03</td>\n",
       "    </tr>\n",
       "    <tr>\n",
       "      <th>3</th>\n",
       "      <td>Albania</td>\n",
       "      <td>ALB</td>\n",
       "      <td>Human capital per capita, employed male (const...</td>\n",
       "      <td>NW.HCA.MEMP.PC</td>\n",
       "      <td>6507.931</td>\n",
       "      <td>1.168935e+04</td>\n",
       "      <td>1.578992e+04</td>\n",
       "      <td>1.699138e+04</td>\n",
       "    </tr>\n",
       "    <tr>\n",
       "      <th>4</th>\n",
       "      <td>Albania</td>\n",
       "      <td>ALB</td>\n",
       "      <td>Human capital per capita, female (constant 201...</td>\n",
       "      <td>NW.HCA.FEMA.PC</td>\n",
       "      <td>4893.006</td>\n",
       "      <td>2.886736e+03</td>\n",
       "      <td>3.613606e+03</td>\n",
       "      <td>3.719608e+03</td>\n",
       "    </tr>\n",
       "  </tbody>\n",
       "</table>\n",
       "</div>"
      ],
      "text/plain": [
       "  Country Name Country Code  \\\n",
       "0      Albania          ALB   \n",
       "1      Albania          ALB   \n",
       "2      Albania          ALB   \n",
       "3      Albania          ALB   \n",
       "4      Albania          ALB   \n",
       "\n",
       "                                      Indicator Code     Series Code  \\\n",
       "0                  Human capital (constant 2018 US$)       NW.HCA.TO   \n",
       "1       Human capital per capita (constant 2018 US$)       NW.HCA.PC   \n",
       "2  Human capital per capita, employed female (con...  NW.HCA.FEMP.PC   \n",
       "3  Human capital per capita, employed male (const...  NW.HCA.MEMP.PC   \n",
       "4  Human capital per capita, female (constant 201...  NW.HCA.FEMA.PC   \n",
       "\n",
       "       1995          2005          2010          2014  \n",
       "0  4.49E+10  5.440000e+10  6.810000e+10  7.250000e+10  \n",
       "1  14072.79  1.807230e+04  2.336286e+04  2.509002e+04  \n",
       "2  3468.858  2.222115e+03  2.889150e+03  2.957420e+03  \n",
       "3  6507.931  1.168935e+04  1.578992e+04  1.699138e+04  \n",
       "4  4893.006  2.886736e+03  3.613606e+03  3.719608e+03  "
      ]
     },
     "execution_count": 157,
     "metadata": {},
     "output_type": "execute_result"
    }
   ],
   "source": [
    "AccountsData.head(5)"
   ]
  },
  {
   "cell_type": "code",
   "execution_count": 30,
   "metadata": {},
   "outputs": [
    {
     "data": {
      "text/plain": [
       "Index(['Country Name', 'Country Code', 'Series Name', 'Series Code',\n",
       "       '1995 [YR1995]', '1996 [YR1996]', '1997 [YR1997]', '1998 [YR1998]',\n",
       "       '1999 [YR1999]', '2000 [YR2000]', '2001 [YR2001]', '2002 [YR2002]',\n",
       "       '2003 [YR2003]', '2004 [YR2004]', '2005 [YR2005]', '2006 [YR2006]',\n",
       "       '2007 [YR2007]', '2008 [YR2008]', '2009 [YR2009]', '2010 [YR2010]',\n",
       "       '2011 [YR2011]', '2012 [YR2012]', '2013 [YR2013]', '2014 [YR2014]',\n",
       "       '2015 [YR2015]', '2016 [YR2016]', '2017 [YR2017]', '2018 [YR2018]'],\n",
       "      dtype='object')"
      ]
     },
     "execution_count": 30,
     "metadata": {},
     "output_type": "execute_result"
    }
   ],
   "source": [
    "AccountsData.columns"
   ]
  },
  {
   "cell_type": "code",
   "execution_count": 31,
   "metadata": {},
   "outputs": [],
   "source": [
    "AccountsData=AccountsData[['Country Name', 'Country Code', 'Series Name', 'Series Code','1995 [YR1995]','2005 [YR2005]','2010 [YR2010]','2014 [YR2014]',]]"
   ]
  },
  {
   "cell_type": "code",
   "execution_count": 66,
   "metadata": {},
   "outputs": [],
   "source": [
    "AccountsData=AccountsData.rename(columns={'Series Name':'Indicator Name','Series code':'Indicator Code','1995 [YR1995]''':1995,'2000 [YR2000]':2000,'2005 [YR2005]':2005,'2010 [YR2010]':2010,'2014 [YR2014]':2014})"
   ]
  },
  {
   "cell_type": "code",
   "execution_count": 56,
   "metadata": {},
   "outputs": [],
   "source": [
    "AccountsSeries=pd.read_csv('D:/ITI - data engineering/Project 1 Dataengineering/Dataset/Wealth-AccountSeries.csv')"
   ]
  },
  {
   "cell_type": "code",
   "execution_count": 156,
   "metadata": {},
   "outputs": [
    {
     "data": {
      "text/html": [
       "<div>\n",
       "<style scoped>\n",
       "    .dataframe tbody tr th:only-of-type {\n",
       "        vertical-align: middle;\n",
       "    }\n",
       "\n",
       "    .dataframe tbody tr th {\n",
       "        vertical-align: top;\n",
       "    }\n",
       "\n",
       "    .dataframe thead th {\n",
       "        text-align: right;\n",
       "    }\n",
       "</style>\n",
       "<table border=\"1\" class=\"dataframe\">\n",
       "  <thead>\n",
       "    <tr style=\"text-align: right;\">\n",
       "      <th></th>\n",
       "      <th>Series Code</th>\n",
       "      <th>Topic</th>\n",
       "      <th>Indicator Name</th>\n",
       "      <th>Sort Defination</th>\n",
       "    </tr>\n",
       "  </thead>\n",
       "  <tbody>\n",
       "    <tr>\n",
       "      <th>0</th>\n",
       "      <td>NW.HCA.TO</td>\n",
       "      <td>Human capital</td>\n",
       "      <td>Human capital (constant 2018 US$)</td>\n",
       "      <td>NaN</td>\n",
       "    </tr>\n",
       "    <tr>\n",
       "      <th>1</th>\n",
       "      <td>NW.HCA.PC</td>\n",
       "      <td>Human capital</td>\n",
       "      <td>Human capital per capita (constant 2018 US$)</td>\n",
       "      <td>NaN</td>\n",
       "    </tr>\n",
       "    <tr>\n",
       "      <th>2</th>\n",
       "      <td>NW.HCA.FEMP.PC</td>\n",
       "      <td>Human capital</td>\n",
       "      <td>Human capital per capita, employed female (con...</td>\n",
       "      <td>NaN</td>\n",
       "    </tr>\n",
       "  </tbody>\n",
       "</table>\n",
       "</div>"
      ],
      "text/plain": [
       "      Series Code          Topic  \\\n",
       "0       NW.HCA.TO  Human capital   \n",
       "1       NW.HCA.PC  Human capital   \n",
       "2  NW.HCA.FEMP.PC  Human capital   \n",
       "\n",
       "                                      Indicator Name Sort Defination  \n",
       "0                  Human capital (constant 2018 US$)             NaN  \n",
       "1       Human capital per capita (constant 2018 US$)             NaN  \n",
       "2  Human capital per capita, employed female (con...             NaN  "
      ]
     },
     "execution_count": 156,
     "metadata": {},
     "output_type": "execute_result"
    }
   ],
   "source": [
    "AccountsSeries.head(3)"
   ]
  },
  {
   "cell_type": "code",
   "execution_count": 61,
   "metadata": {},
   "outputs": [],
   "source": [
    "AccountsSeries=AccountsSeries[['Code','Topic','Indicator Name','Previous Indicator Name']]"
   ]
  },
  {
   "cell_type": "code",
   "execution_count": 65,
   "metadata": {},
   "outputs": [],
   "source": [
    "AccountsSeries=AccountsSeries.rename(columns={'Code':'Series Code' ,'Previous Indicator Name': 'Sort Defination'})"
   ]
  },
  {
   "cell_type": "code",
   "execution_count": 37,
   "metadata": {},
   "outputs": [],
   "source": [
    "songplay_tablecreate = (\"\"\"Create table IF NOT EXISTS accountscountry(\n",
    "country_code VARCHAR PRIMARY KEY ,\n",
    "short_name VARCHAR,\n",
    "table_name VARCHAR,\n",
    "long_name VARCHAR,\n",
    "currency_unit VARCHAR)\n",
    "\"\"\")\n"
   ]
  },
  {
   "cell_type": "code",
   "execution_count": 38,
   "metadata": {},
   "outputs": [],
   "source": [
    "cur.execute(songplay_tablecreate)\n",
    "con.commit()"
   ]
  },
  {
   "cell_type": "code",
   "execution_count": 39,
   "metadata": {},
   "outputs": [],
   "source": [
    "accounts_data_table_create = \"\"\"\n",
    "CREATE TABLE IF NOT EXISTS accountsdata (\n",
    "    indicator_name VARCHAR PRIMARY KEY,\n",
    "    country_code VARCHAR,\n",
    "    Series_Code VARCHAR,\n",
    "    year_1995 NUMERIC,\n",
    "    year_2005 NUMERIC,\n",
    "    year_2010 NUMERIC,\n",
    "    year_2014 NUMERIC,\n",
    "    FOREIGN KEY (country_code) REFERENCES accountscountry(country_code)\n",
    ");\n",
    "\n",
    "\"\"\"\n"
   ]
  },
  {
   "cell_type": "code",
   "execution_count": 40,
   "metadata": {},
   "outputs": [],
   "source": [
    "cur.execute(accounts_data_table_create)\n",
    "con.commit()"
   ]
  },
  {
   "cell_type": "code",
   "execution_count": 41,
   "metadata": {},
   "outputs": [],
   "source": [
    "accountseries_data_table_create = \"\"\"\n",
    "CREATE TABLE IF NOT EXISTS accountsseries (\n",
    "    series_code VARCHAR PRIMARY KEY,\n",
    "    topic VARCHAR,\n",
    "    indicator_name VARCHAR,\n",
    "    short_definition VARCHAR,\n",
    "    FOREIGN KEY (indicator_name) REFERENCES accountsdata(indicator_name)\n",
    "\n",
    ")\n",
    "\"\"\"\n"
   ]
  },
  {
   "cell_type": "code",
   "execution_count": 42,
   "metadata": {},
   "outputs": [],
   "source": [
    "cur.execute(accountseries_data_table_create)\n",
    "con.commit()"
   ]
  },
  {
   "cell_type": "code",
   "execution_count": 43,
   "metadata": {},
   "outputs": [],
   "source": [
    "accounts_table_country_insert = \"\"\"\n",
    "INSERT INTO accountscountry (\n",
    "    country_code,\n",
    "    short_name,\n",
    "    table_name,\n",
    "    long_name,\n",
    "    currency_unit\n",
    ") VALUES (%s, %s, %s, %s, %s)\n",
    "\"\"\"\n"
   ]
  },
  {
   "cell_type": "code",
   "execution_count": 44,
   "metadata": {},
   "outputs": [
    {
     "ename": "UniqueViolation",
     "evalue": "duplicate key value violates unique constraint \"accountscountry_pkey\"\nDETAIL:  Key (country_code)=(ALB) already exists.\n",
     "output_type": "error",
     "traceback": [
      "\u001b[1;31m---------------------------------------------------------------------------\u001b[0m",
      "\u001b[1;31mUniqueViolation\u001b[0m                           Traceback (most recent call last)",
      "Cell \u001b[1;32mIn[44], line 2\u001b[0m\n\u001b[0;32m      1\u001b[0m \u001b[38;5;28;01mfor\u001b[39;00m i,row \u001b[38;5;129;01min\u001b[39;00m AccountsCountry_Clean\u001b[38;5;241m.\u001b[39miterrows():\n\u001b[1;32m----> 2\u001b[0m     \u001b[43mcur\u001b[49m\u001b[38;5;241;43m.\u001b[39;49m\u001b[43mexecute\u001b[49m\u001b[43m(\u001b[49m\u001b[43maccounts_table_country_insert\u001b[49m\u001b[43m,\u001b[49m\u001b[38;5;28;43mlist\u001b[39;49m\u001b[43m(\u001b[49m\u001b[43mrow\u001b[49m\u001b[43m)\u001b[49m\u001b[43m)\u001b[49m\n",
      "\u001b[1;31mUniqueViolation\u001b[0m: duplicate key value violates unique constraint \"accountscountry_pkey\"\nDETAIL:  Key (country_code)=(ALB) already exists.\n"
     ]
    }
   ],
   "source": [
    "for i,row in AccountsCountry_Clean.iterrows():\n",
    "    cur.execute(accounts_table_country_insert,list(row))"
   ]
  },
  {
   "cell_type": "code",
   "execution_count": 45,
   "metadata": {},
   "outputs": [],
   "source": [
    "con.commit()"
   ]
  },
  {
   "cell_type": "code",
   "execution_count": 155,
   "metadata": {},
   "outputs": [
    {
     "name": "stdout",
     "output_type": "stream",
     "text": [
      "('ALB', 'Albania', 'Albania', 'Republic of Albania', 'Albanian lek')\n",
      "('ARG', 'Argentina', 'Argentina', 'Argentine Republic', 'Argentine peso')\n",
      "('ARM', 'Armenia', 'Armenia', 'Republic of Armenia', 'Armenian dram')\n",
      "('AUS', 'Australia', 'Australia', 'Commonwealth of Australia', 'Australian dollar')\n",
      "('AUT', 'Austria', 'Austria', 'Republic of Austria', 'Euro')\n"
     ]
    }
   ],
   "source": [
    "try:\n",
    "  cur.execute(\"Select * from accountscountry limit 5 ;\")\n",
    "except psycopg2.Error as e:\n",
    "  print(\"ERROR : Issue in select table\") \n",
    "  print(e)\n",
    "row = cur.fetchone()\n",
    "while row:\n",
    "  print(row)\n",
    "  row = cur.fetchone()"
   ]
  },
  {
   "cell_type": "code",
   "execution_count": 79,
   "metadata": {},
   "outputs": [
    {
     "data": {
      "text/html": [
       "<div>\n",
       "<style scoped>\n",
       "    .dataframe tbody tr th:only-of-type {\n",
       "        vertical-align: middle;\n",
       "    }\n",
       "\n",
       "    .dataframe tbody tr th {\n",
       "        vertical-align: top;\n",
       "    }\n",
       "\n",
       "    .dataframe thead th {\n",
       "        text-align: right;\n",
       "    }\n",
       "</style>\n",
       "<table border=\"1\" class=\"dataframe\">\n",
       "  <thead>\n",
       "    <tr style=\"text-align: right;\">\n",
       "      <th></th>\n",
       "      <th>Country Code</th>\n",
       "      <th>Short Name</th>\n",
       "      <th>Table Name</th>\n",
       "      <th>Long Name</th>\n",
       "      <th>Currency Unit</th>\n",
       "    </tr>\n",
       "  </thead>\n",
       "  <tbody>\n",
       "    <tr>\n",
       "      <th>0</th>\n",
       "      <td>ALB</td>\n",
       "      <td>Albania</td>\n",
       "      <td>Albania</td>\n",
       "      <td>Republic of Albania</td>\n",
       "      <td>Albanian lek</td>\n",
       "    </tr>\n",
       "    <tr>\n",
       "      <th>1</th>\n",
       "      <td>ARG</td>\n",
       "      <td>Argentina</td>\n",
       "      <td>Argentina</td>\n",
       "      <td>Argentine Republic</td>\n",
       "      <td>Argentine peso</td>\n",
       "    </tr>\n",
       "    <tr>\n",
       "      <th>2</th>\n",
       "      <td>ARM</td>\n",
       "      <td>Armenia</td>\n",
       "      <td>Armenia</td>\n",
       "      <td>Republic of Armenia</td>\n",
       "      <td>Armenian dram</td>\n",
       "    </tr>\n",
       "    <tr>\n",
       "      <th>3</th>\n",
       "      <td>AUS</td>\n",
       "      <td>Australia</td>\n",
       "      <td>Australia</td>\n",
       "      <td>Commonwealth of Australia</td>\n",
       "      <td>Australian dollar</td>\n",
       "    </tr>\n",
       "    <tr>\n",
       "      <th>4</th>\n",
       "      <td>AUT</td>\n",
       "      <td>Austria</td>\n",
       "      <td>Austria</td>\n",
       "      <td>Republic of Austria</td>\n",
       "      <td>Euro</td>\n",
       "    </tr>\n",
       "  </tbody>\n",
       "</table>\n",
       "</div>"
      ],
      "text/plain": [
       "  Country Code Short Name Table Name                  Long Name  \\\n",
       "0          ALB    Albania    Albania        Republic of Albania   \n",
       "1          ARG  Argentina  Argentina         Argentine Republic   \n",
       "2          ARM    Armenia    Armenia        Republic of Armenia   \n",
       "3          AUS  Australia  Australia  Commonwealth of Australia   \n",
       "4          AUT    Austria    Austria        Republic of Austria   \n",
       "\n",
       "       Currency Unit  \n",
       "0       Albanian lek  \n",
       "1     Argentine peso  \n",
       "2      Armenian dram  \n",
       "3  Australian dollar  \n",
       "4               Euro  "
      ]
     },
     "execution_count": 79,
     "metadata": {},
     "output_type": "execute_result"
    }
   ],
   "source": [
    "AccountsCountry_Clean.head(5)"
   ]
  },
  {
   "cell_type": "markdown",
   "metadata": {},
   "source": [
    "*****EDA*****"
   ]
  },
  {
   "cell_type": "code",
   "execution_count": 80,
   "metadata": {},
   "outputs": [
    {
     "name": "stdout",
     "output_type": "stream",
     "text": [
      "<class 'pandas.core.frame.DataFrame'>\n",
      "RangeIndex: 7597 entries, 0 to 7596\n",
      "Data columns (total 5 columns):\n",
      " #   Column         Non-Null Count  Dtype \n",
      "---  ------         --------------  ----- \n",
      " 0   Country Code   7592 non-null   object\n",
      " 1   Short Name     146 non-null    object\n",
      " 2   Table Name     146 non-null    object\n",
      " 3   Long Name      7594 non-null   object\n",
      " 4   Currency Unit  146 non-null    object\n",
      "dtypes: object(5)\n",
      "memory usage: 296.9+ KB\n",
      "None\n",
      "       Country Code Short Name Table Name Long Name Currency Unit\n",
      "count          7592        146        146      7594           146\n",
      "unique          146        146        146       268           115\n",
      "top             LBN    Albania    Albania     Japan          Euro\n",
      "freq             53          1          1        53            18\n"
     ]
    }
   ],
   "source": [
    "print(AccountsCountry_Clean.info())  \n",
    "print(AccountsCountry_Clean.describe()) "
   ]
  },
  {
   "cell_type": "code",
   "execution_count": 90,
   "metadata": {},
   "outputs": [
    {
     "data": {
      "image/png": "[encoded data removed]",
      "text/plain": [
       "<Figure size 1000x600 with 1 Axes>"
      ]
     },
     "metadata": {},
     "output_type": "display_data"
    }
   ],
   "source": [
    "import matplotlib.pyplot as plt\n",
    "import seaborn as sns\n",
    "\n",
    "top_countries = AccountsCountry_Clean['Short Name'].value_counts().head(5)\n",
    "\n",
    "plt.figure(figsize=(10, 6))\n",
    "sns.barplot(x=top_countries.index,\n",
    "            y=top_countries.values)\n",
    "plt.title('Count of Countries by Short Name (Top 5)')\n",
    "plt.xlabel('Country Short Name')\n",
    "plt.ylabel('Count')\n",
    "plt.xticks(rotation=45)\n",
    "plt.tight_layout()\n",
    "plt.show()\n",
    "\n",
    "\n",
    "\n"
   ]
  },
  {
   "cell_type": "code",
   "execution_count": 113,
   "metadata": {},
   "outputs": [
    {
     "data": {
      "image/png": "[encoded data removed]",
      "text/plain": [
       "<Figure size 400x400 with 1 Axes>"
      ]
     },
     "metadata": {},
     "output_type": "display_data"
    }
   ],
   "source": [
    "top_Currancy = AccountsCountry_Clean['Currency Unit'].value_counts().head(5)\n",
    "\n",
    "plt.figure(figsize=(4, 4))  # Adjust figure size\n",
    "\n",
    "# Plot pie chart\n",
    "wedges, texts, autotexts = plt.pie(top_Currancy, labels=top_Currancy.index, autopct='%1.1f%%', startangle=140, textprops={'fontsize': 8})\n",
    "\n",
    "plt.title('Distribution of Currency Units', fontsize=20)  \n",
    "plt.axis('equal')  \n",
    "plt.show()"
   ]
  },
  {
   "cell_type": "code",
   "execution_count": 126,
   "metadata": {},
   "outputs": [
    {
     "name": "stderr",
     "output_type": "stream",
     "text": [
      "C:\\Users\\CD NET\\AppData\\Local\\Temp\\ipykernel_4216\\1649540042.py:8: FutureWarning: \n",
      "\n",
      "Passing `palette` without assigning `hue` is deprecated and will be removed in v0.14.0. Assign the `y` variable to `hue` and set `legend=False` for the same effect.\n",
      "\n",
      "  sns.barplot(x='Count', y='Currency Unit', data=currency_counts, palette='viridis', alpha=0.8)\n"
     ]
    },
    {
     "data": {
      "image/png": "[encoded data removed]",
      "text/plain": [
       "<Figure size 600x600 with 1 Axes>"
      ]
     },
     "metadata": {},
     "output_type": "display_data"
    }
   ],
   "source": [
    "\n",
    "\n",
    "# Assuming AccountsCountry_Clean is your DataFrame\n",
    "currency_counts = AccountsCountry_Clean['Currency Unit'].value_counts().head(5).reset_index()\n",
    "currency_counts.columns = ['Currency Unit', 'Count']  # Rename columns for clarity\n",
    "\n",
    "plt.figure(figsize=(6, 6))\n",
    "\n",
    "# Plot using Seaborn barplot with customized palette\n",
    "sns.barplot(x='Count', y='Currency Unit', data=currency_counts, palette='viridis', alpha=0.8)\n",
    "\n",
    "plt.title('Top 5 Currency Units Across Countries', fontsize=8)\n",
    "plt.xlabel('Count', fontsize=6)\n",
    "plt.ylabel('Currency Unit', fontsize=6)\n",
    "plt.xticks(fontsize=6)\n",
    "plt.yticks(fontsize=6)\n",
    "plt.grid(axis='x')  # Show grid only on x-axis\n",
    "\n",
    "# Annotate bars with values\n",
    "for index, value in enumerate(currency_counts['Count']):\n",
    "    plt.text(value + 0.2, index, str(value), fontsize=12, va='center')\n",
    "\n"
   ]
  },
  {
   "cell_type": "code",
   "execution_count": 69,
   "metadata": {},
   "outputs": [
    {
     "data": {
      "text/html": [
       "<div>\n",
       "<style scoped>\n",
       "    .dataframe tbody tr th:only-of-type {\n",
       "        vertical-align: middle;\n",
       "    }\n",
       "\n",
       "    .dataframe tbody tr th {\n",
       "        vertical-align: top;\n",
       "    }\n",
       "\n",
       "    .dataframe thead th {\n",
       "        text-align: right;\n",
       "    }\n",
       "</style>\n",
       "<table border=\"1\" class=\"dataframe\">\n",
       "  <thead>\n",
       "    <tr style=\"text-align: right;\">\n",
       "      <th></th>\n",
       "      <th>Country Name</th>\n",
       "      <th>Country Code</th>\n",
       "      <th>Indicator Code</th>\n",
       "      <th>Series Code</th>\n",
       "      <th>1995</th>\n",
       "      <th>2005</th>\n",
       "      <th>2010</th>\n",
       "      <th>2014</th>\n",
       "    </tr>\n",
       "  </thead>\n",
       "  <tbody>\n",
       "    <tr>\n",
       "      <th>0</th>\n",
       "      <td>Albania</td>\n",
       "      <td>ALB</td>\n",
       "      <td>Human capital (constant 2018 US$)</td>\n",
       "      <td>NW.HCA.TO</td>\n",
       "      <td>4.49E+10</td>\n",
       "      <td>5.440000e+10</td>\n",
       "      <td>6.810000e+10</td>\n",
       "      <td>7.250000e+10</td>\n",
       "    </tr>\n",
       "    <tr>\n",
       "      <th>1</th>\n",
       "      <td>Albania</td>\n",
       "      <td>ALB</td>\n",
       "      <td>Human capital per capita (constant 2018 US$)</td>\n",
       "      <td>NW.HCA.PC</td>\n",
       "      <td>14072.79</td>\n",
       "      <td>1.807230e+04</td>\n",
       "      <td>2.336286e+04</td>\n",
       "      <td>2.509002e+04</td>\n",
       "    </tr>\n",
       "    <tr>\n",
       "      <th>2</th>\n",
       "      <td>Albania</td>\n",
       "      <td>ALB</td>\n",
       "      <td>Human capital per capita, employed female (con...</td>\n",
       "      <td>NW.HCA.FEMP.PC</td>\n",
       "      <td>3468.858</td>\n",
       "      <td>2.222115e+03</td>\n",
       "      <td>2.889150e+03</td>\n",
       "      <td>2.957420e+03</td>\n",
       "    </tr>\n",
       "    <tr>\n",
       "      <th>3</th>\n",
       "      <td>Albania</td>\n",
       "      <td>ALB</td>\n",
       "      <td>Human capital per capita, employed male (const...</td>\n",
       "      <td>NW.HCA.MEMP.PC</td>\n",
       "      <td>6507.931</td>\n",
       "      <td>1.168935e+04</td>\n",
       "      <td>1.578992e+04</td>\n",
       "      <td>1.699138e+04</td>\n",
       "    </tr>\n",
       "    <tr>\n",
       "      <th>4</th>\n",
       "      <td>Albania</td>\n",
       "      <td>ALB</td>\n",
       "      <td>Human capital per capita, female (constant 201...</td>\n",
       "      <td>NW.HCA.FEMA.PC</td>\n",
       "      <td>4893.006</td>\n",
       "      <td>2.886736e+03</td>\n",
       "      <td>3.613606e+03</td>\n",
       "      <td>3.719608e+03</td>\n",
       "    </tr>\n",
       "  </tbody>\n",
       "</table>\n",
       "</div>"
      ],
      "text/plain": [
       "  Country Name Country Code  \\\n",
       "0      Albania          ALB   \n",
       "1      Albania          ALB   \n",
       "2      Albania          ALB   \n",
       "3      Albania          ALB   \n",
       "4      Albania          ALB   \n",
       "\n",
       "                                      Indicator Code     Series Code  \\\n",
       "0                  Human capital (constant 2018 US$)       NW.HCA.TO   \n",
       "1       Human capital per capita (constant 2018 US$)       NW.HCA.PC   \n",
       "2  Human capital per capita, employed female (con...  NW.HCA.FEMP.PC   \n",
       "3  Human capital per capita, employed male (const...  NW.HCA.MEMP.PC   \n",
       "4  Human capital per capita, female (constant 201...  NW.HCA.FEMA.PC   \n",
       "\n",
       "       1995          2005          2010          2014  \n",
       "0  4.49E+10  5.440000e+10  6.810000e+10  7.250000e+10  \n",
       "1  14072.79  1.807230e+04  2.336286e+04  2.509002e+04  \n",
       "2  3468.858  2.222115e+03  2.889150e+03  2.957420e+03  \n",
       "3  6507.931  1.168935e+04  1.578992e+04  1.699138e+04  \n",
       "4  4893.006  2.886736e+03  3.613606e+03  3.719608e+03  "
      ]
     },
     "execution_count": 69,
     "metadata": {},
     "output_type": "execute_result"
    }
   ],
   "source": [
    "AccountsData.head()\n"
   ]
  },
  {
   "cell_type": "code",
   "execution_count": 70,
   "metadata": {},
   "outputs": [
    {
     "data": {
      "text/html": [
       "<div>\n",
       "<style scoped>\n",
       "    .dataframe tbody tr th:only-of-type {\n",
       "        vertical-align: middle;\n",
       "    }\n",
       "\n",
       "    .dataframe tbody tr th {\n",
       "        vertical-align: top;\n",
       "    }\n",
       "\n",
       "    .dataframe thead th {\n",
       "        text-align: right;\n",
       "    }\n",
       "</style>\n",
       "<table border=\"1\" class=\"dataframe\">\n",
       "  <thead>\n",
       "    <tr style=\"text-align: right;\">\n",
       "      <th></th>\n",
       "      <th>Series Code</th>\n",
       "      <th>Topic</th>\n",
       "      <th>Indicator Name</th>\n",
       "      <th>Sort Defination</th>\n",
       "    </tr>\n",
       "  </thead>\n",
       "  <tbody>\n",
       "    <tr>\n",
       "      <th>0</th>\n",
       "      <td>NW.HCA.TO</td>\n",
       "      <td>Human capital</td>\n",
       "      <td>Human capital (constant 2018 US$)</td>\n",
       "      <td>NaN</td>\n",
       "    </tr>\n",
       "    <tr>\n",
       "      <th>1</th>\n",
       "      <td>NW.HCA.PC</td>\n",
       "      <td>Human capital</td>\n",
       "      <td>Human capital per capita (constant 2018 US$)</td>\n",
       "      <td>NaN</td>\n",
       "    </tr>\n",
       "    <tr>\n",
       "      <th>2</th>\n",
       "      <td>NW.HCA.FEMP.PC</td>\n",
       "      <td>Human capital</td>\n",
       "      <td>Human capital per capita, employed female (con...</td>\n",
       "      <td>NaN</td>\n",
       "    </tr>\n",
       "    <tr>\n",
       "      <th>3</th>\n",
       "      <td>NW.HCA.MEMP.PC</td>\n",
       "      <td>Human capital</td>\n",
       "      <td>Human capital per capita, employed male (const...</td>\n",
       "      <td>NaN</td>\n",
       "    </tr>\n",
       "    <tr>\n",
       "      <th>4</th>\n",
       "      <td>NW.HCA.FEMA.PC</td>\n",
       "      <td>Human capital</td>\n",
       "      <td>Human capital per capita, female (constant 201...</td>\n",
       "      <td>NaN</td>\n",
       "    </tr>\n",
       "  </tbody>\n",
       "</table>\n",
       "</div>"
      ],
      "text/plain": [
       "      Series Code          Topic  \\\n",
       "0       NW.HCA.TO  Human capital   \n",
       "1       NW.HCA.PC  Human capital   \n",
       "2  NW.HCA.FEMP.PC  Human capital   \n",
       "3  NW.HCA.MEMP.PC  Human capital   \n",
       "4  NW.HCA.FEMA.PC  Human capital   \n",
       "\n",
       "                                      Indicator Name Sort Defination  \n",
       "0                  Human capital (constant 2018 US$)             NaN  \n",
       "1       Human capital per capita (constant 2018 US$)             NaN  \n",
       "2  Human capital per capita, employed female (con...             NaN  \n",
       "3  Human capital per capita, employed male (const...             NaN  \n",
       "4  Human capital per capita, female (constant 201...             NaN  "
      ]
     },
     "execution_count": 70,
     "metadata": {},
     "output_type": "execute_result"
    }
   ],
   "source": [
    "AccountsSeries.head()"
   ]
  },
  {
   "cell_type": "code",
   "execution_count": 145,
   "metadata": {},
   "outputs": [
    {
     "data": {
      "image/png": "[encoded data removed]",
      "text/plain": [
       "<Figure size 1000x600 with 1 Axes>"
      ]
     },
     "metadata": {},
     "output_type": "display_data"
    }
   ],
   "source": [
    "import matplotlib.pyplot as plt\n",
    "import seaborn as sns\n",
    "\n",
    "# Count plot for Topic\n",
    "plt.figure(figsize=(10, 6))\n",
    "sns.countplot(x='Topic', data=AccountsSeries)\n",
    "plt.title('Count of Indicators by Topic')\n",
    "plt.xlabel('Topic')\n",
    "plt.ylabel('Count')\n",
    "plt.xticks(rotation=45)\n",
    "plt.show()\n"
   ]
  },
  {
   "cell_type": "code",
   "execution_count": 148,
   "metadata": {},
   "outputs": [
    {
     "data": {
      "image/png": "[encoded data removed]",
      "text/plain": [
       "<Figure size 500x500 with 1 Axes>"
      ]
     },
     "metadata": {},
     "output_type": "display_data"
    }
   ],
   "source": [
    "# Pie chart for distribution of Series Codes\n",
    "plt.figure(figsize=(5,5))\n",
    "Topp=AccountsSeries['Series Code'].value_counts().head(5)\n",
    "Topp.plot(kind='pie', autopct='%1.1f%%', startangle=140)\n",
    "plt.title('Distribution of Series Codes')\n",
    "plt.axis('equal')\n",
    "plt.show()\n"
   ]
  },
  {
   "cell_type": "code",
   "execution_count": 72,
   "metadata": {},
   "outputs": [
    {
     "name": "stdout",
     "output_type": "stream",
     "text": [
      "('ALB', 'Albania', 'Albania', 'Republic of Albania', 'Albanian lek')\n",
      "('ARG', 'Argentina', 'Argentina', 'Argentine Republic', 'Argentine peso')\n",
      "('ARM', 'Armenia', 'Armenia', 'Republic of Armenia', 'Armenian dram')\n",
      "('AUS', 'Australia', 'Australia', 'Commonwealth of Australia', 'Australian dollar')\n",
      "('AUT', 'Austria', 'Austria', 'Republic of Austria', 'Euro')\n",
      "('AZE', 'Azerbaijan', 'Azerbaijan', 'Republic of Azerbaijan', 'New Azeri manat')\n",
      "('BHR', 'Bahrain', 'Bahrain', 'Kingdom of Bahrain', 'Bahraini dinar')\n",
      "('BGD', 'Bangladesh', 'Bangladesh', \"People's Republic of Bangladesh\", 'Bangladeshi taka')\n",
      "('BLR', 'Belarus', 'Belarus', 'Republic of Belarus', 'Belarusian rubel')\n",
      "('BEL', 'Belgium', 'Belgium', 'Kingdom of Belgium', 'Euro')\n"
     ]
    }
   ],
   "source": [
    "try:\n",
    "    cur.execute(\"SELECT * FROM accountscountry LIMIT 10;\")\n",
    "except psycopg2.Error as e:\n",
    "    print(\"ERROR: Issue selecting data from accountsdata table\")\n",
    "    print(e)\n",
    "rows = cur.fetchall()\n",
    "for row in rows:\n",
    "    print(row)\n"
   ]
  },
  {
   "cell_type": "markdown",
   "metadata": {},
   "source": []
  }
 ],
 "metadata": {
  "kernelspec": {
   "display_name": "Python 3",
   "language": "python",
   "name": "python3"
  },
  "language_info": {
   "codemirror_mode": {
    "name": "ipython",
    "version": 3
   },
   "file_extension": ".py",
   "mimetype": "text/x-python",
   "name": "python",
   "nbconvert_exporter": "python",
   "pygments_lexer": "ipython3",
   "version": "3.12.1"
  }
 },
 "nbformat": 4,
 "nbformat_minor": 2
}
